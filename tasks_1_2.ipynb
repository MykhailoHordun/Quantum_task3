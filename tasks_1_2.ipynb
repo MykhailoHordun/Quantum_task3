{
 "cells": [
  {
   "attachments": {},
   "cell_type": "markdown",
   "metadata": {},
   "source": [
    "## Test task"
   ]
  },
  {
   "cell_type": "code",
   "execution_count": 2,
   "metadata": {},
   "outputs": [],
   "source": [
    "import numpy as np\n",
    "import pandas as pd\n",
    "import matplotlib.pyplot as plt\n",
    "import seaborn as sns"
   ]
  },
  {
   "attachments": {},
   "cell_type": "markdown",
   "metadata": {},
   "source": [
    "### task 1 "
   ]
  },
  {
   "cell_type": "code",
   "execution_count": 7,
   "metadata": {},
   "outputs": [
    {
     "name": "stdout",
     "output_type": "stream",
     "text": [
      "N is too large\n"
     ]
    }
   ],
   "source": [
    "def sum_to_N(N):\n",
    "        try:\n",
    "                assert(N<=1e25)\n",
    "                return ((1+N)*N)/2    \n",
    "        except:\n",
    "                return \"N is too large\"\n",
    "print(sum_to_N(1e26))"
   ]
  },
  {
   "attachments": {},
   "cell_type": "markdown",
   "metadata": {},
   "source": [
    "### task 2 ###"
   ]
  },
  {
   "cell_type": "code",
   "execution_count": 3,
   "metadata": {},
   "outputs": [],
   "source": [
    "def islands_count(x):\n",
    "    def land_check(i, j):\n",
    "        if i >= x.shape[0] or j >= x.shape[0] or x[i][j] == 0:\n",
    "            return\n",
    "        \n",
    "        x[i][j] = 0\n",
    "        land_check(i-1, j)\n",
    "        land_check(i+1, j)\n",
    "        land_check(i, j-1)\n",
    "        land_check(i, j+1)\n",
    "    \n",
    "    num = 0\n",
    "    for i in range(x.shape[0]):\n",
    "        for j in range(x.shape[1]):\n",
    "            if x[i,j] == 1:\n",
    "                num += 1\n",
    "                land_check(i, j)\n",
    "    return num\n"
   ]
  },
  {
   "cell_type": "code",
   "execution_count": 4,
   "metadata": {},
   "outputs": [
    {
     "name": "stdout",
     "output_type": "stream",
     "text": [
      "2\n"
     ]
    }
   ],
   "source": [
    "matrix = np.array([\n",
    "    [0,0,1],\n",
    "    [0,1,1],\n",
    "    [1,0,0]\n",
    "])\n",
    "print(islands_count(matrix)) "
   ]
  }
 ],
 "metadata": {
  "kernelspec": {
   "display_name": "Python 3",
   "language": "python",
   "name": "python3"
  },
  "language_info": {
   "codemirror_mode": {
    "name": "ipython",
    "version": 3
   },
   "file_extension": ".py",
   "mimetype": "text/x-python",
   "name": "python",
   "nbconvert_exporter": "python",
   "pygments_lexer": "ipython3",
   "version": "3.10.10"
  },
  "orig_nbformat": 4
 },
 "nbformat": 4,
 "nbformat_minor": 2
}
